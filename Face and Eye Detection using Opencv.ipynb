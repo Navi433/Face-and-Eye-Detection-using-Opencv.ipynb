{
 "cells": [
  {
   "cell_type": "code",
   "execution_count": null,
   "metadata": {},
   "outputs": [],
   "source": [
    "import numpy as np\n",
    "import cv2\n",
    "face_classifier = cv2.CascadeClassifier('C:/Users/Admin/Desktop/Haarcascades/haarcascade_frontalface_default.xml')\n",
    "eye_classifier = cv2.CascadeClassifier('C:/Users/Admin/Desktop/Haarcascades/haarcascade_eye.xml')\n",
    "image=cv2.imread('C:/Users/Admin/Desktop/modi.png')\n",
    "gray=cv2.cvtColor(image,cv2.COLOR_BGR2GRAY)\n",
    "faces=face_classifier.detectMultiScale(gray,1.3,5)\n",
    "if faces is ():\n",
    "    print('No faces found')\n",
    "for (x,y,w,h) in faces:\n",
    "    cv2.rectangle(image,(x,y),(x+h,y+w),(0,255,54),3)\n",
    "    cv2.imshow('Dhoni',image)\n",
    "    cv2.waitKey(0)\n",
    "    roi_gray=gray[y:y+h,x:x+w]\n",
    "    roi_colour=image[y:y+h,x:x+w]\n",
    "    eyes=eye_classifier.detectMultiScale(roi_gray)\n",
    "    for (ex,ey,eh,ew) in eyes:\n",
    "        cv2.rectangle(roi_colour,(ex,ey),(ex+ew, ey+eh),(0,255,4),2)\n",
    "        cv2.imshow('img',image)\n",
    "        \n",
    "        cv2.waitKey(0)\n",
    "        \n",
    "cv2.destroyAllWindows()  \n",
    "\n",
    "    \n"
   ]
  },
  {
   "cell_type": "code",
   "execution_count": null,
   "metadata": {},
   "outputs": [],
   "source": []
  },
  {
   "cell_type": "code",
   "execution_count": null,
   "metadata": {},
   "outputs": [],
   "source": []
  }
 ],
 "metadata": {
  "kernelspec": {
   "display_name": "Python 3",
   "language": "python",
   "name": "python3"
  },
  "language_info": {
   "codemirror_mode": {
    "name": "ipython",
    "version": 3
   },
   "file_extension": ".py",
   "mimetype": "text/x-python",
   "name": "python",
   "nbconvert_exporter": "python",
   "pygments_lexer": "ipython3",
   "version": "3.7.3"
  }
 },
 "nbformat": 4,
 "nbformat_minor": 2
}
